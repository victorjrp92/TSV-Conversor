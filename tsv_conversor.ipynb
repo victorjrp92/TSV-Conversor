{
 "cells": [
  {
   "cell_type": "code",
   "execution_count": 3,
   "metadata": {},
   "outputs": [
    {
     "name": "stdout",
     "output_type": "stream",
     "text": [
      " * Serving Flask app '__main__'\n",
      " * Debug mode: on\n"
     ]
    },
    {
     "name": "stderr",
     "output_type": "stream",
     "text": [
      "WARNING: This is a development server. Do not use it in a production deployment. Use a production WSGI server instead.\n",
      " * Running on http://127.0.0.1:5000\n"
     ]
    },
    {
     "name": "stderr",
     "output_type": "stream",
     "text": [
      "Press CTRL+C to quit\n",
      " * Restarting with stat\n"
     ]
    },
    {
     "ename": "SystemExit",
     "evalue": "1",
     "output_type": "error",
     "traceback": [
      "An exception has occurred, use %tb to see the full traceback.\n",
      "\u001b[1;31mSystemExit\u001b[0m\u001b[1;31m:\u001b[0m 1\n"
     ]
    }
   ],
   "source": [
    "from flask import Flask, request, redirect, url_for, send_file, render_template\n",
    "import pandas as pd\n",
    "import os\n",
    "\n",
    "app = Flask(__name__)\n",
    "UPLOAD_FOLDER = 'uploads'\n",
    "PROCESSED_FOLDER = 'processed'\n",
    "app.config['UPLOAD_FOLDER'] = UPLOAD_FOLDER\n",
    "app.config['PROCESSED_FOLDER'] = PROCESSED_FOLDER\n",
    "\n",
    "# Crear directorios si no existen\n",
    "if not os.path.exists(UPLOAD_FOLDER):\n",
    "    os.makedirs(UPLOAD_FOLDER)\n",
    "\n",
    "if not os.path.exists(PROCESSED_FOLDER):\n",
    "    os.makedirs(PROCESSED_FOLDER)\n",
    "\n",
    "@app.route('/')\n",
    "def upload_file():\n",
    "    return render_template('upload.html')\n",
    "\n",
    "@app.route('/upload', methods=['POST'])\n",
    "def upload_file_post():\n",
    "    if 'file' not in request.files:\n",
    "        return redirect(request.url)\n",
    "    file = request.files['file']\n",
    "    if file.filename == '':\n",
    "        return redirect(request.url)\n",
    "    if file:\n",
    "        file_path = os.path.join(app.config['UPLOAD_FOLDER'], file.filename)\n",
    "        file.save(file_path)\n",
    "        return redirect(url_for('process_file', filename=file.filename))\n",
    "\n",
    "@app.route('/process/<filename>')\n",
    "def process_file(filename):\n",
    "    file_path = os.path.join(app.config['UPLOAD_FOLDER'], filename)\n",
    "    df = pd.read_csv(file_path, sep='\\t')\n",
    "    \n",
    "    processed_file_path = os.path.join(app.config['PROCESSED_FOLDER'], filename.replace('.tsv', '.xlsx'))\n",
    "    df.to_excel(processed_file_path, index=False)\n",
    "    \n",
    "    return send_file(processed_file_path, as_attachment=True)\n",
    "\n",
    "if __name__ == '__main__':\n",
    "    app.run(debug=True)\n"
   ]
  },
  {
   "cell_type": "code",
   "execution_count": null,
   "metadata": {},
   "outputs": [],
   "source": []
  },
  {
   "cell_type": "code",
   "execution_count": null,
   "metadata": {},
   "outputs": [
    {
     "name": "stdout",
     "output_type": "stream",
     "text": [
      "Defaulting to user installation because normal site-packages is not writeable\n",
      "Collecting gunicorn\n",
      "  Downloading gunicorn-22.0.0-py3-none-any.whl.metadata (4.4 kB)\n",
      "Requirement already satisfied: packaging in c:\\users\\v.ramos\\appdata\\roaming\\python\\python312\\site-packages (from gunicorn) (23.2)\n",
      "Downloading gunicorn-22.0.0-py3-none-any.whl (84 kB)\n",
      "   ---------------------------------------- 0.0/84.4 kB ? eta -:--:--\n",
      "   -------------------------------------- - 81.9/84.4 kB ? eta -:--:--\n",
      "   ---------------------------------------- 84.4/84.4 kB 2.4 MB/s eta 0:00:00\n",
      "Installing collected packages: gunicorn\n",
      "Successfully installed gunicorn-22.0.0\n",
      "Note: you may need to restart the kernel to use updated packages.\n"
     ]
    }
   ],
   "source": [
    "pip install gunicorn\n"
   ]
  }
 ],
 "metadata": {
  "kernelspec": {
   "display_name": "Python 3",
   "language": "python",
   "name": "python3"
  },
  "language_info": {
   "codemirror_mode": {
    "name": "ipython",
    "version": 3
   },
   "file_extension": ".py",
   "mimetype": "text/x-python",
   "name": "python",
   "nbconvert_exporter": "python",
   "pygments_lexer": "ipython3",
   "version": "3.12.0"
  }
 },
 "nbformat": 4,
 "nbformat_minor": 2
}
